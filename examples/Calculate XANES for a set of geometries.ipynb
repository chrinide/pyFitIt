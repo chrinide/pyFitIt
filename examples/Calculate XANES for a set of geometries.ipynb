{
 "cells": [
  {
   "cell_type": "markdown",
   "metadata": {},
   "source": [
    "# Importing experiment data, molecula structure and geometry parameters"
   ]
  },
  {
   "cell_type": "code",
   "execution_count": 2,
   "metadata": {
    "collapsed": true
   },
   "outputs": [],
   "source": [
    "from pyFitIt import *\n",
    "\n",
    "# TODO: make import from .parts file format (see pyFitIt TODO list)\n",
    "exp = LoadExperiment('../data/Fe_terpy')"
   ]
  },
  {
   "cell_type": "markdown",
   "metadata": {
    "collapsed": true
   },
   "source": [
    "# Check molecula constructor"
   ]
  },
  {
   "cell_type": "code",
   "execution_count": null,
   "metadata": {
    "collapsed": true
   },
   "outputs": [],
   "source": [
    "mol = exp.moleculaConstructor({'nearSideRingsShift':0, 'nearCentralRingShift':0, 'remoteSideRingsShiftAdd':0, 'remoteCentralRingShift':0, 'nearSideRingsTurn':0, 'remoteSideRingsTurn':10})\n",
    "mol.export_xyz('check.xyz')"
   ]
  },
  {
   "cell_type": "markdown",
   "metadata": {},
   "source": [
    "# Start xanes calculation for IHS sample points"
   ]
  },
  {
   "cell_type": "code",
   "execution_count": null,
   "metadata": {
    "collapsed": true
   },
   "outputs": [],
   "source": [
    "sample(exp.geometryParamRanges, exp.moleculaConstructor, 200, method='IHL', threadCount = 24, parseConvolution=True, outputFolder='.', xanesCalcParams={'energyRange':'0 0.1 18 0.5 30 1 40 2 54 3 250', 'radius':5, 'Green':False, 'Gamma_hole':2.5, 'Ecent':45, 'Elarg':73, 'Gamma_max':25, 'Efermi':0})"
   ]
  }
 ],
 "metadata": {
  "kernelspec": {
   "display_name": "Python 3",
   "language": "python",
   "name": "python3"
  },
  "language_info": {
   "codemirror_mode": {
    "name": "ipython",
    "version": 3
   },
   "file_extension": ".py",
   "mimetype": "text/x-python",
   "name": "python",
   "nbconvert_exporter": "python",
   "pygments_lexer": "ipython3",
   "version": "3.6.1"
  }
 },
 "nbformat": 4,
 "nbformat_minor": 2
}
