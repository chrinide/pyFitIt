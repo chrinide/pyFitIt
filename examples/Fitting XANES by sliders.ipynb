{
 "cells": [
  {
   "cell_type": "markdown",
   "metadata": {
    "collapsed": true
   },
   "source": [
    "# Importing experiment data"
   ]
  },
  {
   "cell_type": "code",
   "execution_count": 1,
   "metadata": {},
   "outputs": [
    {
     "name": "stderr",
     "output_type": "stream",
     "text": [
      "../lib\\sampling.py:18: UserWarning: py-design module not found. If you want to use IHL sampling, do: pip install py-design\n",
      "  warnings.warn(\"py-design module not found. If you want to use IHL sampling, do: pip install py-design\")\n"
     ]
    }
   ],
   "source": [
    "from pyFitIt import *\n",
    "exp = LoadExperiment('../data/Fe_terpy')"
   ]
  },
  {
   "cell_type": "markdown",
   "metadata": {},
   "source": [
    "# Importing XANES calculated for support points"
   ]
  },
  {
   "cell_type": "code",
   "execution_count": 2,
   "metadata": {},
   "outputs": [],
   "source": [
    "geometryParams, xanes = importSampledXanes('../data/Fe_terpy/IHS_sampling')"
   ]
  },
  {
   "cell_type": "markdown",
   "metadata": {},
   "source": [
    "# Fitting XANES by sliders"
   ]
  },
  {
   "cell_type": "code",
   "execution_count": 3,
   "metadata": {},
   "outputs": [
    {
     "data": {
      "application/vnd.jupyter.widget-view+json": {
       "model_id": "9e4c1e02906b4cbbad89d552a7eca488",
       "version_major": 2,
       "version_minor": 0
      },
      "text/html": [
       "<p>Failed to display Jupyter Widget of type <code>HBox</code>.</p>\n",
       "<p>\n",
       "  If you're reading this message in the Jupyter Notebook or JupyterLab Notebook, it may mean\n",
       "  that the widgets JavaScript is still loading. If this message persists, it\n",
       "  likely means that the widgets JavaScript library is either not installed or\n",
       "  not enabled. See the <a href=\"https://ipywidgets.readthedocs.io/en/stable/user_install.html\">Jupyter\n",
       "  Widgets Documentation</a> for setup instructions.\n",
       "</p>\n",
       "<p>\n",
       "  If you're reading this message in another frontend (for example, a static\n",
       "  rendering on GitHub or <a href=\"https://nbviewer.jupyter.org/\">NBViewer</a>),\n",
       "  it may mean that your frontend doesn't currently support widgets.\n",
       "</p>\n"
      ],
      "text/plain": [
       "HBox(children=(FloatSlider(value=0.0, description='nearSideRingsShift', max=0.5, min=-0.5, orientation='vertical', step=0.03333333333333333), FloatSlider(value=0.0, description='nearCentralRingShift', max=0.5, min=-0.5, orientation='vertical', step=0.03333333333333333), FloatSlider(value=0.5, description='remoteSideRingsShiftAdd', max=1.0, orientation='vertical', step=0.03333333333333333), FloatSlider(value=0.0, description='remoteCentralRingShift', max=0.5, min=-0.5, orientation='vertical', step=0.03333333333333333), FloatSlider(value=-6.5, description='nearSideRingsTurn', max=7.0, min=-20.0, orientation='vertical', step=0.9), FloatSlider(value=-6.5, description='remoteSideRingsTurn', max=7.0, min=-20.0, orientation='vertical', step=0.9), FloatSlider(value=7113.0, description='shift', max=7123.0, min=7103.0, orientation='vertical', step=0.3), FloatSlider(value=2.0, description='Gamma_hole', max=10.0, min=0.1, orientation='vertical', step=0.2), FloatSlider(value=50.0, description='Ecent', orientation='vertical', step=1.0), FloatSlider(value=50.0, description='Elarg', orientation='vertical', step=1.0), FloatSlider(value=15.0, description='Gamma_max', min=1.0, orientation='vertical', step=1.0), FloatSlider(value=0.0, description='Efermi', max=30.0, min=-30.0, orientation='vertical', step=1.0), Checkbox(value=True, description='smoothWidth'), Checkbox(value=True, description='notConvoluted'), FloatRangeSlider(value=(0.0, 249.0), description='energyRange', max=249.0, step=8.3)), layout=Layout(align_content='flex-start', align_items='flex-start', flex_flow='row wrap', justify_content='space-between'))"
      ]
     },
     "metadata": {},
     "output_type": "display_data"
    },
    {
     "data": {
      "application/vnd.jupyter.widget-view+json": {
       "model_id": "094a432dc188444b9a18c059b414271b",
       "version_major": 2,
       "version_minor": 0
      },
      "text/html": [
       "<p>Failed to display Jupyter Widget of type <code>Output</code>.</p>\n",
       "<p>\n",
       "  If you're reading this message in the Jupyter Notebook or JupyterLab Notebook, it may mean\n",
       "  that the widgets JavaScript is still loading. If this message persists, it\n",
       "  likely means that the widgets JavaScript library is either not installed or\n",
       "  not enabled. See the <a href=\"https://ipywidgets.readthedocs.io/en/stable/user_install.html\">Jupyter\n",
       "  Widgets Documentation</a> for setup instructions.\n",
       "</p>\n",
       "<p>\n",
       "  If you're reading this message in another frontend (for example, a static\n",
       "  rendering on GitHub or <a href=\"https://nbviewer.jupyter.org/\">NBViewer</a>),\n",
       "  it may mean that your frontend doesn't currently support widgets.\n",
       "</p>\n"
      ],
      "text/plain": [
       "Output(layout=Layout(min_height='400px'))"
      ]
     },
     "metadata": {},
     "output_type": "display_data"
    }
   ],
   "source": [
    "fitBySliders(geometryParams, xanes, exp)"
   ]
  },
  {
   "cell_type": "code",
   "execution_count": null,
   "metadata": {
    "collapsed": true
   },
   "outputs": [],
   "source": []
  }
 ],
 "metadata": {
  "kernelspec": {
   "display_name": "Python 3",
   "language": "python",
   "name": "python3"
  },
  "language_info": {
   "codemirror_mode": {
    "name": "ipython",
    "version": 3
   },
   "file_extension": ".py",
   "mimetype": "text/x-python",
   "name": "python",
   "nbconvert_exporter": "python",
   "pygments_lexer": "ipython3",
   "version": "3.6.4"
  }
 },
 "nbformat": 4,
 "nbformat_minor": 2
}
